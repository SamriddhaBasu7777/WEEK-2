{
  "nbformat": 4,
  "nbformat_minor": 0,
  "metadata": {
    "colab": {
      "provenance": [],
      "authorship_tag": "ABX9TyNfhzUpHlL6W90G6DlQlh6N",
      "include_colab_link": true
    },
    "kernelspec": {
      "name": "python3",
      "display_name": "Python 3"
    },
    "language_info": {
      "name": "python"
    }
  },
  "cells": [
    {
      "cell_type": "markdown",
      "metadata": {
        "id": "view-in-github",
        "colab_type": "text"
      },
      "source": [
        "<a href=\"https://colab.research.google.com/github/SamriddhaBasu7777/WEEK-2/blob/main/PYTHON_Q1.ipynb\" target=\"_parent\"><img src=\"https://colab.research.google.com/assets/colab-badge.svg\" alt=\"Open In Colab\"/></a>"
      ]
    },
    {
      "cell_type": "code",
      "execution_count": 2,
      "metadata": {
        "colab": {
          "base_uri": "https://localhost:8080/"
        },
        "id": "-0IlddqrOHOj",
        "outputId": "e3c46ce0-9606-4ed5-b2d5-a6a34d754a6c"
      },
      "outputs": [
        {
          "output_type": "stream",
          "name": "stdout",
          "text": [
            "1 2 3 4\n",
            "12 13 14 5\n",
            "11 16 15 6\n",
            "10 9 8 7\n"
          ]
        }
      ],
      "source": [
        "# Simple matrix size\n",
        "n = 4\n",
        "matrix = [[0 for _ in range(n)] for _ in range(n)]\n",
        "\n",
        "# Spiral filling\n",
        "num = 1\n",
        "top = 0\n",
        "bottom = n - 1\n",
        "left = 0\n",
        "right = n - 1\n",
        "\n",
        "while top <= bottom and left <= right:\n",
        "    # Left to Right\n",
        "    for i in range(left, right + 1):\n",
        "        matrix[top][i] = num\n",
        "        num += 1\n",
        "    top += 1\n",
        "\n",
        "    # Top to Bottom\n",
        "    for i in range(top, bottom + 1):\n",
        "        matrix[i][right] = num\n",
        "        num += 1\n",
        "    right -= 1\n",
        "\n",
        "    # Right to Left\n",
        "    for i in range(right, left - 1, -1):\n",
        "        matrix[bottom][i] = num\n",
        "        num += 1\n",
        "    bottom -= 1\n",
        "\n",
        "    # Bottom to Top\n",
        "    for i in range(bottom, top - 1, -1):\n",
        "        matrix[i][left] = num\n",
        "        num += 1\n",
        "    left += 1\n",
        "\n",
        "# Print matrix\n",
        "for row in matrix:\n",
        "    print(*row)\n"
      ]
    }
  ]
}