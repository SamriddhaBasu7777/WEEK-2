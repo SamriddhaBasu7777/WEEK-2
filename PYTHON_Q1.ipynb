{
  "nbformat": 4,
  "nbformat_minor": 0,
  "metadata": {
    "colab": {
      "provenance": [],
      "authorship_tag": "ABX9TyPhPuE35eQKEPgk+uPRvha8",
      "include_colab_link": true
    },
    "kernelspec": {
      "name": "python3",
      "display_name": "Python 3"
    },
    "language_info": {
      "name": "python"
    }
  },
  "cells": [
    {
      "cell_type": "markdown",
      "metadata": {
        "id": "view-in-github",
        "colab_type": "text"
      },
      "source": [
        "<a href=\"https://colab.research.google.com/github/SamriddhaBasu7777/WEEK-2/blob/main/PYTHON_Q1.ipynb\" target=\"_parent\"><img src=\"https://colab.research.google.com/assets/colab-badge.svg\" alt=\"Open In Colab\"/></a>"
      ]
    },
    {
      "cell_type": "code",
      "execution_count": 3,
      "metadata": {
        "colab": {
          "base_uri": "https://localhost:8080/"
        },
        "id": "-0IlddqrOHOj",
        "outputId": "4a0f8543-f8e6-4210-b066-c188ce62e06e"
      },
      "outputs": [
        {
          "output_type": "stream",
          "name": "stdout",
          "text": [
            "Spiral Order:\n",
            "1 2 3 4 8 12 16 15 14 13 9 5 6 7 11 10\n"
          ]
        }
      ],
      "source": [
        "matrix = [\n",
        "    [1,  2,  3,  4],\n",
        "    [5,  6,  7,  8],\n",
        "    [9, 10, 11, 12],\n",
        "    [13,14, 15,16]\n",
        "]\n",
        "\n",
        "rows = len(matrix)\n",
        "cols = len(matrix[0])\n",
        "top = 0\n",
        "bottom = rows - 1\n",
        "left = 0\n",
        "right = cols - 1\n",
        "\n",
        "print(\"Spiral Order:\")\n",
        "spiral = []\n",
        "\n",
        "while top <= bottom and left <= right:\n",
        "    # Traverse from Left to Right\n",
        "    for i in range(left, right + 1):\n",
        "        spiral.append(matrix[top][i])\n",
        "    top += 1\n",
        "\n",
        "    # Traverse from Top to Bottom\n",
        "    for i in range(top, bottom + 1):\n",
        "        spiral.append(matrix[i][right])\n",
        "    right -= 1\n",
        "\n",
        "    # Traverse from Right to Left\n",
        "    if top <= bottom:\n",
        "        for i in range(right, left - 1, -1):\n",
        "            spiral.append(matrix[bottom][i])\n",
        "        bottom -= 1\n",
        "\n",
        "    # Traverse from Bottom to Top\n",
        "    if left <= right:\n",
        "        for i in range(bottom, top - 1, -1):\n",
        "            spiral.append(matrix[i][left])\n",
        "        left += 1\n",
        "\n",
        "# Print the spiral order\n",
        "print(*spiral)\n"
      ]
    }
  ]
}