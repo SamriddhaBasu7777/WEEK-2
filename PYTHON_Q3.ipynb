{
  "nbformat": 4,
  "nbformat_minor": 0,
  "metadata": {
    "colab": {
      "provenance": [],
      "authorship_tag": "ABX9TyPPfElhanD25Ua3fyVDT2oO",
      "include_colab_link": true
    },
    "kernelspec": {
      "name": "python3",
      "display_name": "Python 3"
    },
    "language_info": {
      "name": "python"
    }
  },
  "cells": [
    {
      "cell_type": "markdown",
      "metadata": {
        "id": "view-in-github",
        "colab_type": "text"
      },
      "source": [
        "<a href=\"https://colab.research.google.com/github/SamriddhaBasu7777/WEEK-2/blob/main/PYTHON_Q3.ipynb\" target=\"_parent\"><img src=\"https://colab.research.google.com/assets/colab-badge.svg\" alt=\"Open In Colab\"/></a>"
      ]
    },
    {
      "cell_type": "code",
      "execution_count": 5,
      "metadata": {
        "colab": {
          "base_uri": "https://localhost:8080/"
        },
        "id": "-0IlddqrOHOj",
        "outputId": "837d6502-7acf-4388-82ce-e57bee470c99"
      },
      "outputs": [
        {
          "output_type": "stream",
          "name": "stdout",
          "text": [
            "Sum of principal diagonal: 15\n"
          ]
        }
      ],
      "source": [
        "# Sample 3x3 matrix\n",
        "matrix = [\n",
        "    [1, 2, 3],\n",
        "    [4, 5, 6],\n",
        "    [7, 8, 9]\n",
        "]\n",
        "\n",
        "# Calculate sum of principal diagonal\n",
        "n = len(matrix)\n",
        "sum_diag = 0\n",
        "for i in range(n):\n",
        "    sum_diag += matrix[i][i]\n",
        "\n",
        "print(\"Sum of principal diagonal:\", sum_diag)\n"
      ]
    }
  ]
}