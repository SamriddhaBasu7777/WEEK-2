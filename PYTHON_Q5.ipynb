{
  "nbformat": 4,
  "nbformat_minor": 0,
  "metadata": {
    "colab": {
      "provenance": [],
      "authorship_tag": "ABX9TyMPNcpDQWvLZoCPHtuQity4",
      "include_colab_link": true
    },
    "kernelspec": {
      "name": "python3",
      "display_name": "Python 3"
    },
    "language_info": {
      "name": "python"
    }
  },
  "cells": [
    {
      "cell_type": "markdown",
      "metadata": {
        "id": "view-in-github",
        "colab_type": "text"
      },
      "source": [
        "<a href=\"https://colab.research.google.com/github/SamriddhaBasu7777/WEEK-2/blob/main/PYTHON_Q5.ipynb\" target=\"_parent\"><img src=\"https://colab.research.google.com/assets/colab-badge.svg\" alt=\"Open In Colab\"/></a>"
      ]
    },
    {
      "cell_type": "code",
      "execution_count": 7,
      "metadata": {
        "colab": {
          "base_uri": "https://localhost:8080/"
        },
        "id": "-0IlddqrOHOj",
        "outputId": "b8455e02-066e-450a-9650-0506ff4a347c"
      },
      "outputs": [
        {
          "output_type": "stream",
          "name": "stdout",
          "text": [
            "Matrix is Sparse\n"
          ]
        }
      ],
      "source": [
        "# Sample matrix\n",
        "matrix = [\n",
        "    [0, 0, 3],\n",
        "    [0, 0, 0],\n",
        "    [1, 0, 0]\n",
        "]\n",
        "\n",
        "rows = len(matrix)\n",
        "cols = len(matrix[0])\n",
        "total = rows * cols\n",
        "\n",
        "zero_count = 0\n",
        "\n",
        "# Count zeroes\n",
        "for i in range(rows):\n",
        "    for j in range(cols):\n",
        "        if matrix[i][j] == 0:\n",
        "            zero_count += 1\n",
        "\n",
        "# Check condition\n",
        "if zero_count > total / 2:\n",
        "    print(\"Matrix is Sparse\")\n",
        "else:\n",
        "    print(\"Matrix is Not Sparse\")\n"
      ]
    }
  ]
}