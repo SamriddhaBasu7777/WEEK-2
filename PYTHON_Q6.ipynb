{
  "nbformat": 4,
  "nbformat_minor": 0,
  "metadata": {
    "colab": {
      "provenance": [],
      "authorship_tag": "ABX9TyNyuMYXcb85CTrzBwE68a5Z",
      "include_colab_link": true
    },
    "kernelspec": {
      "name": "python3",
      "display_name": "Python 3"
    },
    "language_info": {
      "name": "python"
    }
  },
  "cells": [
    {
      "cell_type": "markdown",
      "metadata": {
        "id": "view-in-github",
        "colab_type": "text"
      },
      "source": [
        "<a href=\"https://colab.research.google.com/github/SamriddhaBasu7777/WEEK-2/blob/main/PYTHON_Q6.ipynb\" target=\"_parent\"><img src=\"https://colab.research.google.com/assets/colab-badge.svg\" alt=\"Open In Colab\"/></a>"
      ]
    },
    {
      "cell_type": "code",
      "execution_count": 9,
      "metadata": {
        "colab": {
          "base_uri": "https://localhost:8080/"
        },
        "id": "-0IlddqrOHOj",
        "outputId": "119f94e6-81fd-46b4-c95c-6d92b7d59994"
      },
      "outputs": [
        {
          "output_type": "stream",
          "name": "stdout",
          "text": [
            "Sum Polynomial Coefficients: [6, 4, 7, 5]\n",
            "Polynomial Sum: 6 + 4x^1 + 7x^2 + 5x^3\n"
          ]
        }
      ],
      "source": [
        "# Input polynomials\n",
        "A = [2, 3, 0, 5]   # 2 + 3x + 0x² + 5x³\n",
        "B = [4, 1, 7]      # 4 + 1x + 7x²\n",
        "\n",
        "# Calculate sum\n",
        "n = max(len(A), len(B))\n",
        "sum_poly = []\n",
        "\n",
        "for i in range(n):\n",
        "    a = A[i] if i < len(A) else 0\n",
        "    b = B[i] if i < len(B) else 0\n",
        "    sum_poly.append(a + b)\n",
        "\n",
        "# Display result with powers\n",
        "result_str = \"\"\n",
        "for i in range(len(sum_poly)):\n",
        "    coeff = sum_poly[i]\n",
        "    if coeff != 0:\n",
        "        if result_str != \"\":\n",
        "            result_str += \" + \"\n",
        "        if i == 0:\n",
        "            result_str += f\"{coeff}\"\n",
        "        else:\n",
        "            result_str += f\"{coeff}x^{i}\"\n",
        "\n",
        "# Final output\n",
        "print(\"Sum Polynomial Coefficients:\", sum_poly)\n",
        "print(\"Polynomial Sum:\", result_str)\n"
      ]
    }
  ]
}