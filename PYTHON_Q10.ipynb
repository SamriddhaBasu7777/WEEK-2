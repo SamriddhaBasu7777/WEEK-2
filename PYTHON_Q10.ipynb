{
  "nbformat": 4,
  "nbformat_minor": 0,
  "metadata": {
    "colab": {
      "provenance": [],
      "authorship_tag": "ABX9TyODdUeecydCf8oIVpKQLNXN",
      "include_colab_link": true
    },
    "kernelspec": {
      "name": "python3",
      "display_name": "Python 3"
    },
    "language_info": {
      "name": "python"
    }
  },
  "cells": [
    {
      "cell_type": "markdown",
      "metadata": {
        "id": "view-in-github",
        "colab_type": "text"
      },
      "source": [
        "<a href=\"https://colab.research.google.com/github/SamriddhaBasu7777/WEEK-2/blob/main/PYTHON_Q10.ipynb\" target=\"_parent\"><img src=\"https://colab.research.google.com/assets/colab-badge.svg\" alt=\"Open In Colab\"/></a>"
      ]
    },
    {
      "cell_type": "code",
      "execution_count": 16,
      "metadata": {
        "id": "-0IlddqrOHOj",
        "colab": {
          "base_uri": "https://localhost:8080/"
        },
        "outputId": "ee0396c0-76cf-40dd-d047-9f66077bea71"
      },
      "outputs": [
        {
          "output_type": "stream",
          "name": "stdout",
          "text": [
            "Number of zeros in the matrix: 4\n"
          ]
        }
      ],
      "source": [
        "matrix = [\n",
        "    [1, 0, 3],\n",
        "    [0, 5, 0],\n",
        "    [7, 0, 9]\n",
        "]\n",
        "\n",
        "zero_count = 0\n",
        "\n",
        "for row in matrix:\n",
        "    for value in row:\n",
        "        if value == 0:\n",
        "            zero_count += 1\n",
        "\n",
        "print(\"Number of zeros in the matrix:\", zero_count)\n"
      ]
    }
  ]
}