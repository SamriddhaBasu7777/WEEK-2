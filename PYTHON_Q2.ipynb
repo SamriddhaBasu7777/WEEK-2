{
  "nbformat": 4,
  "nbformat_minor": 0,
  "metadata": {
    "colab": {
      "provenance": [],
      "authorship_tag": "ABX9TyM2Y3cGLQI5wHZCG0/RPOR1",
      "include_colab_link": true
    },
    "kernelspec": {
      "name": "python3",
      "display_name": "Python 3"
    },
    "language_info": {
      "name": "python"
    }
  },
  "cells": [
    {
      "cell_type": "markdown",
      "metadata": {
        "id": "view-in-github",
        "colab_type": "text"
      },
      "source": [
        "<a href=\"https://colab.research.google.com/github/SamriddhaBasu7777/WEEK-2/blob/main/PYTHON_Q2.ipynb\" target=\"_parent\"><img src=\"https://colab.research.google.com/assets/colab-badge.svg\" alt=\"Open In Colab\"/></a>"
      ]
    },
    {
      "cell_type": "code",
      "execution_count": 4,
      "metadata": {
        "colab": {
          "base_uri": "https://localhost:8080/"
        },
        "id": "-0IlddqrOHOj",
        "outputId": "b7b67cd2-5cdb-40c5-f675-35eec362dd56"
      },
      "outputs": [
        {
          "output_type": "stream",
          "name": "stdout",
          "text": [
            "3 6 9\n",
            "2 5 8\n",
            "1 4 7\n"
          ]
        }
      ],
      "source": [
        "# Sample matrix (3x3)\n",
        "matrix = [\n",
        "    [1, 2, 3],\n",
        "    [4, 5, 6],\n",
        "    [7, 8, 9]\n",
        "]\n",
        "\n",
        "# Step 1: Transpose the matrix\n",
        "n = len(matrix)\n",
        "for i in range(n):\n",
        "    for j in range(i + 1, n):\n",
        "        matrix[i][j], matrix[j][i] = matrix[j][i], matrix[i][j]\n",
        "\n",
        "# Step 2: Reverse each column\n",
        "for col in range(n):\n",
        "    top = 0\n",
        "    bottom = n - 1\n",
        "    while top < bottom:\n",
        "        matrix[top][col], matrix[bottom][col] = matrix[bottom][col], matrix[top][col]\n",
        "        top += 1\n",
        "        bottom -= 1\n",
        "\n",
        "# Print the rotated matrix\n",
        "for row in matrix:\n",
        "    print(*row)\n"
      ]
    }
  ]
}