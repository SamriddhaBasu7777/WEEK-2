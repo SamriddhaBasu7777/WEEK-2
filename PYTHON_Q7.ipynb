{
  "nbformat": 4,
  "nbformat_minor": 0,
  "metadata": {
    "colab": {
      "provenance": [],
      "authorship_tag": "ABX9TyMp24tgG7RSupVPXzovoy0z",
      "include_colab_link": true
    },
    "kernelspec": {
      "name": "python3",
      "display_name": "Python 3"
    },
    "language_info": {
      "name": "python"
    }
  },
  "cells": [
    {
      "cell_type": "markdown",
      "metadata": {
        "id": "view-in-github",
        "colab_type": "text"
      },
      "source": [
        "<a href=\"https://colab.research.google.com/github/SamriddhaBasu7777/WEEK-2/blob/main/PYTHON_Q7.ipynb\" target=\"_parent\"><img src=\"https://colab.research.google.com/assets/colab-badge.svg\" alt=\"Open In Colab\"/></a>"
      ]
    },
    {
      "cell_type": "code",
      "execution_count": 11,
      "metadata": {
        "colab": {
          "base_uri": "https://localhost:8080/"
        },
        "id": "-0IlddqrOHOj",
        "outputId": "3614295b-6ee8-49de-8996-e53271cd5f91"
      },
      "outputs": [
        {
          "output_type": "stream",
          "name": "stdout",
          "text": [
            "Product Polynomial Coefficients: [4, 13, 22, 15]\n"
          ]
        }
      ],
      "source": [
        "# Input polynomials (coefficients from x⁰ upward)\n",
        "A = [1, 2, 3]   # 1 + 2x + 3x²\n",
        "B = [4, 5]      # 4 + 5x\n",
        "\n",
        "# Prepare result array of size len(A)+len(B)-1, initialized to 0\n",
        "result = [0] * (len(A) + len(B) - 1)\n",
        "\n",
        "# Multiply and accumulate\n",
        "for i in range(len(A)):\n",
        "    for j in range(len(B)):\n",
        "        result[i + j] += A[i] * B[j]\n",
        "\n",
        "# Output just the coefficients\n",
        "print(\"Product Polynomial Coefficients:\", result)\n"
      ]
    }
  ]
}