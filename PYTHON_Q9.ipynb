{
  "nbformat": 4,
  "nbformat_minor": 0,
  "metadata": {
    "colab": {
      "provenance": [],
      "authorship_tag": "ABX9TyMeRVaEgqrbDfT7WjRusAFZ",
      "include_colab_link": true
    },
    "kernelspec": {
      "name": "python3",
      "display_name": "Python 3"
    },
    "language_info": {
      "name": "python"
    }
  },
  "cells": [
    {
      "cell_type": "markdown",
      "metadata": {
        "id": "view-in-github",
        "colab_type": "text"
      },
      "source": [
        "<a href=\"https://colab.research.google.com/github/SamriddhaBasu7777/WEEK-2/blob/main/PYTHON_Q9.ipynb\" target=\"_parent\"><img src=\"https://colab.research.google.com/assets/colab-badge.svg\" alt=\"Open In Colab\"/></a>"
      ]
    },
    {
      "cell_type": "code",
      "execution_count": 15,
      "metadata": {
        "id": "-0IlddqrOHOj",
        "colab": {
          "base_uri": "https://localhost:8080/"
        },
        "outputId": "86e90bf8-1d85-4461-871d-412f21505df9"
      },
      "outputs": [
        {
          "output_type": "stream",
          "name": "stdout",
          "text": [
            "Matrix is an Identity Matrix\n"
          ]
        }
      ],
      "source": [
        "# Sample matrix (you can change it)\n",
        "matrix = [\n",
        "    [1, 0, 0],\n",
        "    [0, 1, 0],\n",
        "    [0, 0, 1]\n",
        "]\n",
        "\n",
        "# Check if identity matrix\n",
        "is_identity = True\n",
        "n = len(matrix)\n",
        "\n",
        "for i in range(n):\n",
        "    for j in range(n):\n",
        "        if i == j:\n",
        "            if matrix[i][j] != 1:\n",
        "                is_identity = False\n",
        "        else:\n",
        "            if matrix[i][j] != 0:\n",
        "                is_identity = False\n",
        "\n",
        "# Output result\n",
        "if is_identity:\n",
        "    print(\"Matrix is an Identity Matrix\")\n",
        "else:\n",
        "    print(\"Matrix is NOT an Identity Matrix\")\n"
      ]
    }
  ]
}