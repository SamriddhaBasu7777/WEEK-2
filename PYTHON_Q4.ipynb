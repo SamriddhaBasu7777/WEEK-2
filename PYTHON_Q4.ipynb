{
  "nbformat": 4,
  "nbformat_minor": 0,
  "metadata": {
    "colab": {
      "provenance": [],
      "authorship_tag": "ABX9TyNWpJB+1XdCfSdbQfSkKzvD",
      "include_colab_link": true
    },
    "kernelspec": {
      "name": "python3",
      "display_name": "Python 3"
    },
    "language_info": {
      "name": "python"
    }
  },
  "cells": [
    {
      "cell_type": "markdown",
      "metadata": {
        "id": "view-in-github",
        "colab_type": "text"
      },
      "source": [
        "<a href=\"https://colab.research.google.com/github/SamriddhaBasu7777/WEEK-2/blob/main/PYTHON_Q4.ipynb\" target=\"_parent\"><img src=\"https://colab.research.google.com/assets/colab-badge.svg\" alt=\"Open In Colab\"/></a>"
      ]
    },
    {
      "cell_type": "code",
      "execution_count": 6,
      "metadata": {
        "colab": {
          "base_uri": "https://localhost:8080/"
        },
        "id": "-0IlddqrOHOj",
        "outputId": "aabda5e9-4ba1-4543-e7b3-4ca32e0f4e63"
      },
      "outputs": [
        {
          "output_type": "stream",
          "name": "stdout",
          "text": [
            "Transpose of the matrix:\n",
            "1 4 7\n",
            "2 5 8\n",
            "3 6 9\n"
          ]
        }
      ],
      "source": [
        "# Original matrix (3x3)\n",
        "matrix = [\n",
        "    [1, 2, 3],\n",
        "    [4, 5, 6],\n",
        "    [7, 8, 9]\n",
        "]\n",
        "\n",
        "# Get number of rows and columns\n",
        "rows = len(matrix)\n",
        "cols = len(matrix[0])\n",
        "\n",
        "# Create transpose matrix\n",
        "transpose = [[0 for _ in range(rows)] for _ in range(cols)]\n",
        "\n",
        "# Fill transpose matrix\n",
        "for i in range(rows):\n",
        "    for j in range(cols):\n",
        "        transpose[j][i] = matrix[i][j]\n",
        "\n",
        "# Print transpose\n",
        "print(\"Transpose of the matrix:\")\n",
        "for row in transpose:\n",
        "    print(*row)\n"
      ]
    }
  ]
}